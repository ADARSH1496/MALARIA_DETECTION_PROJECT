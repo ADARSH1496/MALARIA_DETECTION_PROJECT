{
 "cells": [
  {
   "cell_type": "markdown",
   "metadata": {},
   "source": [
    "## Malaria Detection"
   ]
  },
  {
   "cell_type": "code",
   "execution_count": 1,
   "metadata": {},
   "outputs": [],
   "source": [
    "# import the libraries as shown below\n",
    "\n",
    "from tensorflow.keras.layers import Input, Lambda, Dense, Flatten,Conv2D\n",
    "from tensorflow.keras.models import Model\n",
    "from tensorflow.keras.applications.vgg19 import VGG19\n",
    "from tensorflow.keras.applications.resnet50 import preprocess_input\n",
    "from tensorflow.keras.preprocessing import image\n",
    "from tensorflow.keras.preprocessing.image import ImageDataGenerator,load_img\n",
    "from tensorflow.keras.models import Sequential\n",
    "import numpy as np\n",
    "from glob import glob\n",
    "import matplotlib.pyplot as plt"
   ]
  },
  {
   "cell_type": "code",
   "execution_count": 2,
   "metadata": {},
   "outputs": [],
   "source": [
    "# re-size all the images to this\n",
    "IMAGE_SIZE = [224, 224]\n",
    "\n",
    "train_path = 'Dataset/Train'\n",
    "valid_path = 'Dataset/Test'\n"
   ]
  },
  {
   "cell_type": "code",
   "execution_count": 3,
   "metadata": {},
   "outputs": [
    {
     "name": "stdout",
     "output_type": "stream",
     "text": [
      "Downloading data from https://storage.googleapis.com/tensorflow/keras-applications/vgg19/vgg19_weights_tf_dim_ordering_tf_kernels_notop.h5\n",
      "80142336/80134624 [==============================] - 87s 1us/step\n"
     ]
    }
   ],
   "source": [
    "# Import the Vgg 16 library as shown below and add preprocessing layer to the front of VGG\n",
    "# Here we will be using imagenet weights\n",
    "\n",
    "vgg = VGG19(input_shape=IMAGE_SIZE + [3], weights='imagenet', include_top=False)\n",
    "\n",
    "\n"
   ]
  },
  {
   "cell_type": "code",
   "execution_count": 4,
   "metadata": {},
   "outputs": [],
   "source": [
    "# don't train existing weights\n",
    "for layer in vgg.layers:\n",
    "    layer.trainable = False"
   ]
  },
  {
   "cell_type": "code",
   "execution_count": 5,
   "metadata": {},
   "outputs": [],
   "source": [
    "  # useful for getting number of output classes\n",
    "folders = glob('Dataset/Train/*')"
   ]
  },
  {
   "cell_type": "code",
   "execution_count": 6,
   "metadata": {},
   "outputs": [
    {
     "data": {
      "text/plain": [
       "['Dataset/Train\\\\Parasite', 'Dataset/Train\\\\Uninfected']"
      ]
     },
     "execution_count": 6,
     "metadata": {},
     "output_type": "execute_result"
    }
   ],
   "source": [
    "folders"
   ]
  },
  {
   "cell_type": "code",
   "execution_count": 7,
   "metadata": {},
   "outputs": [],
   "source": [
    "# our layers - you can add more if you want\n",
    "x = Flatten()(vgg.output)"
   ]
  },
  {
   "cell_type": "code",
   "execution_count": 8,
   "metadata": {},
   "outputs": [],
   "source": [
    "prediction = Dense(len(folders), activation='softmax')(x)\n",
    "\n",
    "# create a model object\n",
    "model = Model(inputs=vgg.input, outputs=prediction)"
   ]
  },
  {
   "cell_type": "code",
   "execution_count": 9,
   "metadata": {},
   "outputs": [
    {
     "name": "stdout",
     "output_type": "stream",
     "text": [
      "Model: \"model\"\n",
      "_________________________________________________________________\n",
      "Layer (type)                 Output Shape              Param #   \n",
      "=================================================================\n",
      "input_1 (InputLayer)         [(None, 224, 224, 3)]     0         \n",
      "_________________________________________________________________\n",
      "block1_conv1 (Conv2D)        (None, 224, 224, 64)      1792      \n",
      "_________________________________________________________________\n",
      "block1_conv2 (Conv2D)        (None, 224, 224, 64)      36928     \n",
      "_________________________________________________________________\n",
      "block1_pool (MaxPooling2D)   (None, 112, 112, 64)      0         \n",
      "_________________________________________________________________\n",
      "block2_conv1 (Conv2D)        (None, 112, 112, 128)     73856     \n",
      "_________________________________________________________________\n",
      "block2_conv2 (Conv2D)        (None, 112, 112, 128)     147584    \n",
      "_________________________________________________________________\n",
      "block2_pool (MaxPooling2D)   (None, 56, 56, 128)       0         \n",
      "_________________________________________________________________\n",
      "block3_conv1 (Conv2D)        (None, 56, 56, 256)       295168    \n",
      "_________________________________________________________________\n",
      "block3_conv2 (Conv2D)        (None, 56, 56, 256)       590080    \n",
      "_________________________________________________________________\n",
      "block3_conv3 (Conv2D)        (None, 56, 56, 256)       590080    \n",
      "_________________________________________________________________\n",
      "block3_conv4 (Conv2D)        (None, 56, 56, 256)       590080    \n",
      "_________________________________________________________________\n",
      "block3_pool (MaxPooling2D)   (None, 28, 28, 256)       0         \n",
      "_________________________________________________________________\n",
      "block4_conv1 (Conv2D)        (None, 28, 28, 512)       1180160   \n",
      "_________________________________________________________________\n",
      "block4_conv2 (Conv2D)        (None, 28, 28, 512)       2359808   \n",
      "_________________________________________________________________\n",
      "block4_conv3 (Conv2D)        (None, 28, 28, 512)       2359808   \n",
      "_________________________________________________________________\n",
      "block4_conv4 (Conv2D)        (None, 28, 28, 512)       2359808   \n",
      "_________________________________________________________________\n",
      "block4_pool (MaxPooling2D)   (None, 14, 14, 512)       0         \n",
      "_________________________________________________________________\n",
      "block5_conv1 (Conv2D)        (None, 14, 14, 512)       2359808   \n",
      "_________________________________________________________________\n",
      "block5_conv2 (Conv2D)        (None, 14, 14, 512)       2359808   \n",
      "_________________________________________________________________\n",
      "block5_conv3 (Conv2D)        (None, 14, 14, 512)       2359808   \n",
      "_________________________________________________________________\n",
      "block5_conv4 (Conv2D)        (None, 14, 14, 512)       2359808   \n",
      "_________________________________________________________________\n",
      "block5_pool (MaxPooling2D)   (None, 7, 7, 512)         0         \n",
      "_________________________________________________________________\n",
      "flatten (Flatten)            (None, 25088)             0         \n",
      "_________________________________________________________________\n",
      "dense (Dense)                (None, 2)                 50178     \n",
      "=================================================================\n",
      "Total params: 20,074,562\n",
      "Trainable params: 50,178\n",
      "Non-trainable params: 20,024,384\n",
      "_________________________________________________________________\n"
     ]
    }
   ],
   "source": [
    "\n",
    "# view the structure of the model\n",
    "model.summary()\n"
   ]
  },
  {
   "cell_type": "code",
   "execution_count": 37,
   "metadata": {},
   "outputs": [],
   "source": [
    "# from tensorflow.keras.layers import MaxPooling2D"
   ]
  },
  {
   "cell_type": "code",
   "execution_count": 38,
   "metadata": {},
   "outputs": [
    {
     "name": "stdout",
     "output_type": "stream",
     "text": [
      "Model: \"sequential_1\"\n",
      "_________________________________________________________________\n",
      "Layer (type)                 Output Shape              Param #   \n",
      "=================================================================\n",
      "conv2d_1 (Conv2D)            (None, 224, 224, 16)      208       \n",
      "_________________________________________________________________\n",
      "max_pooling2d (MaxPooling2D) (None, 112, 112, 16)      0         \n",
      "_________________________________________________________________\n",
      "conv2d_2 (Conv2D)            (None, 112, 112, 32)      2080      \n",
      "_________________________________________________________________\n",
      "max_pooling2d_1 (MaxPooling2 (None, 56, 56, 32)        0         \n",
      "_________________________________________________________________\n",
      "conv2d_3 (Conv2D)            (None, 56, 56, 64)        8256      \n",
      "_________________________________________________________________\n",
      "max_pooling2d_2 (MaxPooling2 (None, 28, 28, 64)        0         \n",
      "_________________________________________________________________\n",
      "flatten_1 (Flatten)          (None, 50176)             0         \n",
      "_________________________________________________________________\n",
      "dense_1 (Dense)              (None, 500)               25088500  \n",
      "_________________________________________________________________\n",
      "dense_2 (Dense)              (None, 2)                 1002      \n",
      "=================================================================\n",
      "Total params: 25,100,046\n",
      "Trainable params: 25,100,046\n",
      "Non-trainable params: 0\n",
      "_________________________________________________________________\n"
     ]
    }
   ],
   "source": [
    "### Create Model from scratch using CNN\n",
    "# model=Sequential()\n",
    "# model.add(Conv2D(filters=16,kernel_size=2,padding=\"same\",activation=\"relu\",input_shape=(224,224,3)))\n",
    "# model.add(MaxPooling2D(pool_size=2))\n",
    "# model.add(Conv2D(filters=32,kernel_size=2,padding=\"same\",activation =\"relu\"))\n",
    "# model.add(MaxPooling2D(pool_size=2))\n",
    "# model.add(Conv2D(filters=64,kernel_size=2,padding=\"same\",activation=\"relu\"))\n",
    "# model.add(MaxPooling2D(pool_size=2))\n",
    "# model.add(Flatten())\n",
    "# model.add(Dense(500,activation=\"relu\"))\n",
    "# model.add(Dense(2,activation=\"softmax\"))\n",
    "# model.summary()"
   ]
  },
  {
   "cell_type": "code",
   "execution_count": 10,
   "metadata": {},
   "outputs": [],
   "source": [
    "# tell the model what cost and optimization method to use\n",
    "model.compile(\n",
    "  loss='categorical_crossentropy',\n",
    "  optimizer='adam',\n",
    "  metrics=['accuracy']\n",
    ")\n"
   ]
  },
  {
   "cell_type": "code",
   "execution_count": 11,
   "metadata": {},
   "outputs": [],
   "source": [
    "# Use the Image Data Generator to import the images from the dataset\n",
    "from tensorflow.keras.preprocessing.image import ImageDataGenerator\n",
    "\n",
    "train_datagen = ImageDataGenerator(rescale = 1./255,\n",
    "                                   shear_range = 0.2,\n",
    "                                   zoom_range = 0.2,\n",
    "                                   horizontal_flip = True)\n",
    "\n",
    "test_datagen = ImageDataGenerator(rescale = 1./255)"
   ]
  },
  {
   "cell_type": "code",
   "execution_count": 12,
   "metadata": {},
   "outputs": [
    {
     "name": "stdout",
     "output_type": "stream",
     "text": [
      "Found 416 images belonging to 2 classes.\n"
     ]
    }
   ],
   "source": [
    "# Make sure you provide the same target size as initialied for the image size\n",
    "training_set = train_datagen.flow_from_directory('Dataset/Train',\n",
    "                                                 target_size = (224, 224),\n",
    "                                                 batch_size = 32,\n",
    "                                                 class_mode = 'categorical')"
   ]
  },
  {
   "cell_type": "code",
   "execution_count": 13,
   "metadata": {},
   "outputs": [
    {
     "data": {
      "text/plain": [
       "<tensorflow.python.keras.preprocessing.image.DirectoryIterator at 0x280631a9cd0>"
      ]
     },
     "execution_count": 13,
     "metadata": {},
     "output_type": "execute_result"
    }
   ],
   "source": [
    "training_set"
   ]
  },
  {
   "cell_type": "code",
   "execution_count": 14,
   "metadata": {},
   "outputs": [
    {
     "name": "stdout",
     "output_type": "stream",
     "text": [
      "Found 134 images belonging to 2 classes.\n"
     ]
    }
   ],
   "source": [
    "test_set = test_datagen.flow_from_directory('Dataset/Test',\n",
    "                                            target_size = (224, 224),\n",
    "                                            batch_size = 32,\n",
    "                                            class_mode = 'categorical')"
   ]
  },
  {
   "cell_type": "code",
   "execution_count": 17,
   "metadata": {
    "scrolled": true
   },
   "outputs": [
    {
     "name": "stdout",
     "output_type": "stream",
     "text": [
      "Epoch 1/15\n",
      "13/13 [==============================] - 120s 10s/step - loss: 0.3066 - accuracy: 0.8726 - val_loss: 0.6456 - val_accuracy: 0.6716\n",
      "Epoch 2/15\n",
      "13/13 [==============================] - 119s 9s/step - loss: 0.3301 - accuracy: 0.8678 - val_loss: 0.3794 - val_accuracy: 0.8060\n",
      "Epoch 3/15\n",
      "13/13 [==============================] - 124s 10s/step - loss: 0.2801 - accuracy: 0.8846 - val_loss: 0.5035 - val_accuracy: 0.7388\n",
      "Epoch 4/15\n",
      "13/13 [==============================] - 131s 10s/step - loss: 0.3004 - accuracy: 0.8774 - val_loss: 0.3489 - val_accuracy: 0.7985\n",
      "Epoch 5/15\n",
      "13/13 [==============================] - 129s 10s/step - loss: 0.2848 - accuracy: 0.8822 - val_loss: 0.3550 - val_accuracy: 0.8582\n",
      "Epoch 6/15\n",
      "13/13 [==============================] - 129s 10s/step - loss: 0.2182 - accuracy: 0.9135 - val_loss: 0.3176 - val_accuracy: 0.8881\n",
      "Epoch 7/15\n",
      "13/13 [==============================] - 120s 9s/step - loss: 0.2082 - accuracy: 0.9303 - val_loss: 0.3818 - val_accuracy: 0.8060\n",
      "Epoch 8/15\n",
      "13/13 [==============================] - 124s 10s/step - loss: 0.2145 - accuracy: 0.9159 - val_loss: 0.3153 - val_accuracy: 0.8209\n",
      "Epoch 9/15\n",
      "13/13 [==============================] - 119s 9s/step - loss: 0.2019 - accuracy: 0.9351 - val_loss: 0.3859 - val_accuracy: 0.7985\n",
      "Epoch 10/15\n",
      "13/13 [==============================] - 127s 10s/step - loss: 0.1874 - accuracy: 0.9351 - val_loss: 0.2945 - val_accuracy: 0.9030\n",
      "Epoch 11/15\n",
      "13/13 [==============================] - 144s 11s/step - loss: 0.1754 - accuracy: 0.9399 - val_loss: 0.2940 - val_accuracy: 0.8507\n",
      "Epoch 12/15\n",
      "13/13 [==============================] - 136s 11s/step - loss: 0.1888 - accuracy: 0.9303 - val_loss: 0.4593 - val_accuracy: 0.7687\n",
      "Epoch 13/15\n",
      "13/13 [==============================] - 132s 10s/step - loss: 0.1604 - accuracy: 0.9591 - val_loss: 0.3087 - val_accuracy: 0.8657\n",
      "Epoch 14/15\n",
      "13/13 [==============================] - 121s 9s/step - loss: 0.1344 - accuracy: 0.9639 - val_loss: 0.2518 - val_accuracy: 0.9104\n",
      "Epoch 15/15\n",
      "13/13 [==============================] - 120s 9s/step - loss: 0.1596 - accuracy: 0.9399 - val_loss: 0.3775 - val_accuracy: 0.7985\n"
     ]
    }
   ],
   "source": [
    "# fit the model\n",
    "# Run the cell. It will take some time to execute\n",
    "r = model.fit_generator(\n",
    "  training_set,\n",
    "  validation_data=test_set,\n",
    "  epochs=15,\n",
    "  steps_per_epoch=len(training_set),\n",
    "  validation_steps=len(test_set)\n",
    ")"
   ]
  },
  {
   "cell_type": "code",
   "execution_count": 18,
   "metadata": {},
   "outputs": [
    {
     "data": {
      "image/png": "[encoded data removed]",
      "text/plain": [
       "<Figure size 432x288 with 1 Axes>"
      ]
     },
     "metadata": {
      "needs_background": "light"
     },
     "output_type": "display_data"
    },
    {
     "data": {
      "image/png": "[encoded data removed]",
      "text/plain": [
       "<Figure size 432x288 with 1 Axes>"
      ]
     },
     "metadata": {
      "needs_background": "light"
     },
     "output_type": "display_data"
    },
    {
     "data": {
      "text/plain": [
       "<Figure size 432x288 with 0 Axes>"
      ]
     },
     "metadata": {},
     "output_type": "display_data"
    }
   ],
   "source": [
    "# plot the loss\n",
    "plt.plot(r.history['loss'], label='train loss')\n",
    "plt.plot(r.history['val_loss'], label='val loss')\n",
    "plt.legend()\n",
    "plt.show()\n",
    "plt.savefig('LossVal_loss')\n",
    "\n",
    "# plot the accuracy\n",
    "plt.plot(r.history['accuracy'], label='train acc')\n",
    "plt.plot(r.history['val_accuracy'], label='val acc')\n",
    "plt.legend()\n",
    "plt.show()\n",
    "plt.savefig('AccVal_acc')"
   ]
  },
  {
   "cell_type": "code",
   "execution_count": 19,
   "metadata": {},
   "outputs": [],
   "source": [
    "# save it as a h5 file\n",
    "\n",
    "\n",
    "from tensorflow.keras.models import load_model\n",
    "\n",
    "model.save('Malaria_Detection_vgg19.h5')"
   ]
  },
  {
   "cell_type": "code",
   "execution_count": 20,
   "metadata": {},
   "outputs": [],
   "source": [
    "\n",
    "y_pred = model.predict(test_set)\n"
   ]
  },
  {
   "cell_type": "code",
   "execution_count": 21,
   "metadata": {},
   "outputs": [
    {
     "data": {
      "text/plain": [
       "array([[9.94751394e-01, 5.24867419e-03],\n",
       "       [8.36568534e-01, 1.63431495e-01],\n",
       "       [2.35997569e-02, 9.76400256e-01],\n",
       "       [5.28331324e-02, 9.47166860e-01],\n",
       "       [2.92689532e-01, 7.07310379e-01],\n",
       "       [7.94255212e-02, 9.20574486e-01],\n",
       "       [9.92260873e-01, 7.73910759e-03],\n",
       "       [7.08227813e-01, 2.91772187e-01],\n",
       "       [9.86472964e-01, 1.35270059e-02],\n",
       "       [9.98718143e-01, 1.28190801e-03],\n",
       "       [4.01129387e-02, 9.59887087e-01],\n",
       "       [9.99100804e-01, 8.99185485e-04],\n",
       "       [9.57316458e-01, 4.26835865e-02],\n",
       "       [9.99958873e-01, 4.11670298e-05],\n",
       "       [6.11761570e-01, 3.88238460e-01],\n",
       "       [1.06855430e-01, 8.93144608e-01],\n",
       "       [4.96840477e-02, 9.50315952e-01],\n",
       "       [9.93143320e-01, 6.85671205e-03],\n",
       "       [4.65614557e-01, 5.34385443e-01],\n",
       "       [4.73192960e-01, 5.26807070e-01],\n",
       "       [1.70821875e-01, 8.29178154e-01],\n",
       "       [8.25891197e-01, 1.74108833e-01],\n",
       "       [4.01724987e-02, 9.59827483e-01],\n",
       "       [1.13721728e-01, 8.86278272e-01],\n",
       "       [7.51471162e-01, 2.48528883e-01],\n",
       "       [3.97342592e-01, 6.02657437e-01],\n",
       "       [4.62950379e-01, 5.37049592e-01],\n",
       "       [8.87779474e-01, 1.12220496e-01],\n",
       "       [8.37180093e-02, 9.16281939e-01],\n",
       "       [9.98841941e-01, 1.15812384e-03],\n",
       "       [2.68949538e-01, 7.31050432e-01],\n",
       "       [9.98242259e-01, 1.75779033e-03],\n",
       "       [1.33857667e-01, 8.66142392e-01],\n",
       "       [6.44208252e-01, 3.55791748e-01],\n",
       "       [9.86264169e-01, 1.37358326e-02],\n",
       "       [9.27471697e-01, 7.25282282e-02],\n",
       "       [9.92179871e-01, 7.82015733e-03],\n",
       "       [1.05058588e-01, 8.94941390e-01],\n",
       "       [9.48106349e-01, 5.18936291e-02],\n",
       "       [1.61957353e-01, 8.38042617e-01],\n",
       "       [4.68096226e-01, 5.31903803e-01],\n",
       "       [9.63423908e-01, 3.65760922e-02],\n",
       "       [9.28013265e-01, 7.19867572e-02],\n",
       "       [8.05974782e-01, 1.94025233e-01],\n",
       "       [6.21347964e-01, 3.78652036e-01],\n",
       "       [5.53154826e-01, 4.46845144e-01],\n",
       "       [9.86253977e-01, 1.37459580e-02],\n",
       "       [2.27428988e-01, 7.72570968e-01],\n",
       "       [2.92962193e-02, 9.70703840e-01],\n",
       "       [1.90850601e-01, 8.09149384e-01],\n",
       "       [1.60958692e-01, 8.39041352e-01],\n",
       "       [1.17614806e-01, 8.82385135e-01],\n",
       "       [9.79623973e-01, 2.03760378e-02],\n",
       "       [8.40863436e-02, 9.15913701e-01],\n",
       "       [6.15305007e-01, 3.84694993e-01],\n",
       "       [8.92152265e-02, 9.10784721e-01],\n",
       "       [3.48254710e-01, 6.51745260e-01],\n",
       "       [7.41082728e-02, 9.25891757e-01],\n",
       "       [2.27675900e-01, 7.72324085e-01],\n",
       "       [5.11111379e-01, 4.88888621e-01],\n",
       "       [9.35831368e-01, 6.41686693e-02],\n",
       "       [7.02547804e-02, 9.29745257e-01],\n",
       "       [9.84378994e-01, 1.56210121e-02],\n",
       "       [9.78221893e-01, 2.17780825e-02],\n",
       "       [4.33417797e-01, 5.66582203e-01],\n",
       "       [7.41113946e-02, 9.25888598e-01],\n",
       "       [8.15640569e-01, 1.84359461e-01],\n",
       "       [7.36770332e-02, 9.26322937e-01],\n",
       "       [9.75246370e-01, 2.47536432e-02],\n",
       "       [4.59968477e-01, 5.40031493e-01],\n",
       "       [7.71709755e-02, 9.22829032e-01],\n",
       "       [8.28920826e-02, 9.17107880e-01],\n",
       "       [2.70263553e-02, 9.72973645e-01],\n",
       "       [9.96308208e-01, 3.69181810e-03],\n",
       "       [2.23053932e-01, 7.76946068e-01],\n",
       "       [6.69612646e-01, 3.30387354e-01],\n",
       "       [8.67788017e-01, 1.32212058e-01],\n",
       "       [9.90358412e-01, 9.64155234e-03],\n",
       "       [1.71961799e-01, 8.28038156e-01],\n",
       "       [9.14250851e-01, 8.57492164e-02],\n",
       "       [1.56046584e-01, 8.43953371e-01],\n",
       "       [9.92946923e-01, 7.05309073e-03],\n",
       "       [3.59046608e-02, 9.64095354e-01],\n",
       "       [9.80520070e-01, 1.94799397e-02],\n",
       "       [8.82250518e-02, 9.11774874e-01],\n",
       "       [9.84166384e-01, 1.58336163e-02],\n",
       "       [8.56344588e-03, 9.91436541e-01],\n",
       "       [9.98915195e-01, 1.08484947e-03],\n",
       "       [9.40987885e-01, 5.90121225e-02],\n",
       "       [8.82389471e-02, 9.11761045e-01],\n",
       "       [9.62897718e-01, 3.71023230e-02],\n",
       "       [2.65923981e-02, 9.73407626e-01],\n",
       "       [9.84506071e-01, 1.54938754e-02],\n",
       "       [6.82173371e-01, 3.17826688e-01],\n",
       "       [9.75497246e-01, 2.45027225e-02],\n",
       "       [6.05399236e-02, 9.39460039e-01],\n",
       "       [8.48766342e-02, 9.15123343e-01],\n",
       "       [9.78423774e-01, 2.15762425e-02],\n",
       "       [4.47697751e-02, 9.55230176e-01],\n",
       "       [5.68647325e-01, 4.31352675e-01],\n",
       "       [9.98956919e-01, 1.04312319e-03],\n",
       "       [8.59702110e-01, 1.40297875e-01],\n",
       "       [7.11340308e-01, 2.88659692e-01],\n",
       "       [9.99908805e-01, 9.11497482e-05],\n",
       "       [9.90503430e-01, 9.49659757e-03],\n",
       "       [3.84989649e-01, 6.15010440e-01],\n",
       "       [9.96264994e-01, 3.73496395e-03],\n",
       "       [4.11921173e-01, 5.88078797e-01],\n",
       "       [3.10531501e-02, 9.68946874e-01],\n",
       "       [3.32150936e-01, 6.67849064e-01],\n",
       "       [4.45013076e-01, 5.54986894e-01],\n",
       "       [9.61059853e-02, 9.03894007e-01],\n",
       "       [9.79875207e-01, 2.01247334e-02],\n",
       "       [9.98832047e-01, 1.16792158e-03],\n",
       "       [2.53810585e-01, 7.46189415e-01],\n",
       "       [3.62252332e-02, 9.63774800e-01],\n",
       "       [5.70626676e-01, 4.29373384e-01],\n",
       "       [1.65600985e-01, 8.34399045e-01],\n",
       "       [3.33100520e-02, 9.66690004e-01],\n",
       "       [2.01940924e-01, 7.98059046e-01],\n",
       "       [7.00564682e-01, 2.99435288e-01],\n",
       "       [4.70200568e-01, 5.29799342e-01],\n",
       "       [4.37211543e-02, 9.56278861e-01],\n",
       "       [6.88227952e-01, 3.11772078e-01],\n",
       "       [9.58543122e-02, 9.04145718e-01],\n",
       "       [8.23425174e-01, 1.76574796e-01],\n",
       "       [1.50219336e-01, 8.49780679e-01],\n",
       "       [3.41978930e-02, 9.65802193e-01],\n",
       "       [6.06738627e-02, 9.39326167e-01],\n",
       "       [9.99984384e-01, 1.55931284e-05],\n",
       "       [3.81828576e-01, 6.18171453e-01],\n",
       "       [1.49475530e-01, 8.50524485e-01],\n",
       "       [4.80095968e-02, 9.51990366e-01],\n",
       "       [1.58920586e-01, 8.41079414e-01]], dtype=float32)"
      ]
     },
     "execution_count": 21,
     "metadata": {},
     "output_type": "execute_result"
    }
   ],
   "source": [
    "y_pred"
   ]
  },
  {
   "cell_type": "code",
   "execution_count": 22,
   "metadata": {},
   "outputs": [],
   "source": [
    "import numpy as np\n",
    "y_pred = np.argmax(y_pred, axis=1)"
   ]
  },
  {
   "cell_type": "code",
   "execution_count": 23,
   "metadata": {},
   "outputs": [
    {
     "data": {
      "text/plain": [
       "array([0, 0, 1, 1, 1, 1, 0, 0, 0, 0, 1, 0, 0, 0, 0, 1, 1, 0, 1, 1, 1, 0,\n",
       "       1, 1, 0, 1, 1, 0, 1, 0, 1, 0, 1, 0, 0, 0, 0, 1, 0, 1, 1, 0, 0, 0,\n",
       "       0, 0, 0, 1, 1, 1, 1, 1, 0, 1, 0, 1, 1, 1, 1, 0, 0, 1, 0, 0, 1, 1,\n",
       "       0, 1, 0, 1, 1, 1, 1, 0, 1, 0, 0, 0, 1, 0, 1, 0, 1, 0, 1, 0, 1, 0,\n",
       "       0, 1, 0, 1, 0, 0, 0, 1, 1, 0, 1, 0, 0, 0, 0, 0, 0, 1, 0, 1, 1, 1,\n",
       "       1, 1, 0, 0, 1, 1, 0, 1, 1, 1, 0, 1, 1, 0, 1, 0, 1, 1, 1, 0, 1, 1,\n",
       "       1, 1], dtype=int64)"
      ]
     },
     "execution_count": 23,
     "metadata": {},
     "output_type": "execute_result"
    }
   ],
   "source": [
    "y_pred"
   ]
  },
  {
   "cell_type": "code",
   "execution_count": 24,
   "metadata": {},
   "outputs": [],
   "source": [
    "# from tensorflow.keras.models import load_model\n",
    "from tensorflow.keras.preprocessing import image"
   ]
  },
  {
   "cell_type": "code",
   "execution_count": 22,
   "metadata": {},
   "outputs": [],
   "source": [
    "# model=load_model('model_vgg19.h5')"
   ]
  },
  {
   "cell_type": "code",
   "execution_count": 25,
   "metadata": {},
   "outputs": [],
   "source": [
    "img=image.load_img('Dataset/Test/Uninfected/2.png',target_size=(224,224))"
   ]
  },
  {
   "cell_type": "code",
   "execution_count": 26,
   "metadata": {},
   "outputs": [
    {
     "data": {
      "text/plain": [
       "array([[[0., 0., 0.],\n",
       "        [0., 0., 0.],\n",
       "        [0., 0., 0.],\n",
       "        ...,\n",
       "        [0., 0., 0.],\n",
       "        [0., 0., 0.],\n",
       "        [0., 0., 0.]],\n",
       "\n",
       "       [[0., 0., 0.],\n",
       "        [0., 0., 0.],\n",
       "        [0., 0., 0.],\n",
       "        ...,\n",
       "        [0., 0., 0.],\n",
       "        [0., 0., 0.],\n",
       "        [0., 0., 0.]],\n",
       "\n",
       "       [[0., 0., 0.],\n",
       "        [0., 0., 0.],\n",
       "        [0., 0., 0.],\n",
       "        ...,\n",
       "        [0., 0., 0.],\n",
       "        [0., 0., 0.],\n",
       "        [0., 0., 0.]],\n",
       "\n",
       "       ...,\n",
       "\n",
       "       [[0., 0., 0.],\n",
       "        [0., 0., 0.],\n",
       "        [0., 0., 0.],\n",
       "        ...,\n",
       "        [0., 0., 0.],\n",
       "        [0., 0., 0.],\n",
       "        [0., 0., 0.]],\n",
       "\n",
       "       [[0., 0., 0.],\n",
       "        [0., 0., 0.],\n",
       "        [0., 0., 0.],\n",
       "        ...,\n",
       "        [0., 0., 0.],\n",
       "        [0., 0., 0.],\n",
       "        [0., 0., 0.]],\n",
       "\n",
       "       [[0., 0., 0.],\n",
       "        [0., 0., 0.],\n",
       "        [0., 0., 0.],\n",
       "        ...,\n",
       "        [0., 0., 0.],\n",
       "        [0., 0., 0.],\n",
       "        [0., 0., 0.]]], dtype=float32)"
      ]
     },
     "execution_count": 26,
     "metadata": {},
     "output_type": "execute_result"
    }
   ],
   "source": [
    "x=image.img_to_array(img)\n",
    "x"
   ]
  },
  {
   "cell_type": "code",
   "execution_count": 27,
   "metadata": {},
   "outputs": [
    {
     "data": {
      "text/plain": [
       "(224, 224, 3)"
      ]
     },
     "execution_count": 27,
     "metadata": {},
     "output_type": "execute_result"
    }
   ],
   "source": [
    "x.shape"
   ]
  },
  {
   "cell_type": "code",
   "execution_count": 28,
   "metadata": {},
   "outputs": [],
   "source": [
    "x=x/255"
   ]
  },
  {
   "cell_type": "code",
   "execution_count": 29,
   "metadata": {},
   "outputs": [
    {
     "data": {
      "text/plain": [
       "(1, 224, 224, 3)"
      ]
     },
     "execution_count": 29,
     "metadata": {},
     "output_type": "execute_result"
    }
   ],
   "source": [
    "x=np.expand_dims(x,axis=0)\n",
    "img_data=preprocess_input(x)\n",
    "img_data.shape"
   ]
  },
  {
   "cell_type": "code",
   "execution_count": 30,
   "metadata": {},
   "outputs": [
    {
     "data": {
      "text/plain": [
       "array([[0.3003052, 0.6996949]], dtype=float32)"
      ]
     },
     "execution_count": 30,
     "metadata": {},
     "output_type": "execute_result"
    }
   ],
   "source": [
    "model.predict(img_data)"
   ]
  },
  {
   "cell_type": "code",
   "execution_count": 31,
   "metadata": {},
   "outputs": [],
   "source": [
    "a=np.argmax(model.predict(img_data), axis=1)"
   ]
  },
  {
   "cell_type": "code",
   "execution_count": 32,
   "metadata": {},
   "outputs": [
    {
     "name": "stdout",
     "output_type": "stream",
     "text": [
      "Uninfected\n"
     ]
    }
   ],
   "source": [
    "if(a==1):\n",
    "    print(\"Uninfected\")\n",
    "else:\n",
    "    print(\"Infected\")"
   ]
  }
 ],
 "metadata": {
  "kernelspec": {
   "display_name": "Python 3",
   "language": "python",
   "name": "python3"
  },
  "language_info": {
   "codemirror_mode": {
    "name": "ipython",
    "version": 3
   },
   "file_extension": ".py",
   "mimetype": "text/x-python",
   "name": "python",
   "nbconvert_exporter": "python",
   "pygments_lexer": "ipython3",
   "version": "3.8.5"
  }
 },
 "nbformat": 4,
 "nbformat_minor": 2
}
